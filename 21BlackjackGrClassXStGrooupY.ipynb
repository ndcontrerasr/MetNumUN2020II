{
  "nbformat": 4,
  "nbformat_minor": 0,
  "metadata": {
    "colab": {
      "name": "21BlackjackGrClassXStGrooupY.ipynb",
      "provenance": [],
      "collapsed_sections": []
    },
    "kernelspec": {
      "name": "python3",
      "display_name": "Python 3"
    }
  },
  "cells": [
    {
      "cell_type": "markdown",
      "metadata": {
        "id": "_o2vStEv4V34"
      },
      "source": [
        ""
      ]
    },
    {
      "cell_type": "markdown",
      "metadata": {
        "id": "unUzp4c14eFW"
      },
      "source": [
        "#Algoritmos Lab #4"
      ]
    },
    {
      "cell_type": "markdown",
      "metadata": {
        "id": "itew3DuN7Gsp"
      },
      "source": [
        "# Punto 1 ###\n",
        "###Explicación del codigo \n",
        "Estime la probabilidad de obtener un 21, el número total promedio de cartas necesarias para completar 21 (incluidas las tres con las que comienza) y trazar la distribución experimental de la cantidad de cartas necesarias para completar 21 con el dibujo de las cartas secuencialmente de un español 48 barajado. - baraja de cartas con 3 10's y una baraja de 52 cartas de Poker barajada con 4 10's, asumiendo que tienes en tu mano las cartas [7,7,5] ae y la baraja restante tiene  n / 2  cartas. Puede elegir las   cartas n / 2 en el mazo restante de la manera que elija, pero con la restricción de que este tiene un máximo de dos 7 y tres 5, debe mantener el mazo restante fijo a través de las simulaciones, use Montecarlo con 10 millones de simulaciones.\n"
      ]
    },
    {
      "cell_type": "code",
      "metadata": {
        "id": "mOylgVzf4AJX",
        "outputId": "21f4b8e5-df20-4e2e-87cc-3059b3c86af1",
        "colab": {
          "base_uri": "https://localhost:8080/",
          "height": 543
        }
      },
      "source": [
        "#1\n",
        "import random as r\n",
        "import matplotlib.pyplot as plt\n",
        "import numpy as np\n",
        "#Numero simulaciones\n",
        "n=10000\n",
        "\"\"\"Listas para las graficas de distribucion\"\"\"\n",
        "count_esp = [0,0,0,0,0,0,0,0,0,0,0,0]\n",
        "count_pok = [0,0,0,0,0,0,0,0,0,0,0,0]\n",
        "#Baraja española\n",
        "b_esp = [1,2,3,4,5,6,7,8,9,10,11,12,1,2,3,4,5,6,7,8,9,10,11,12,1,2,3,4,5,6,7,8,9,10,11,12,1,2,3,4,5,6,7,8,9,10,11,12] \n",
        "#Baraja poker\n",
        "b_pok = [1,2,3,4,5,6,7,8,9,10,11,12,13,1,2,3,4,5,6,7,8,9,10,11,12,13,1,2,3,4,5,6,7,8,9,10,11,12,13,1,2,3,4,5,6,7,8,9,10,11,12,13]\n",
        "\n",
        "for i in range(n):\n",
        "    test_esp = b_esp[:]\n",
        "    test_pok = b_pok[:]\n",
        "    mano_esp = []\n",
        "    mano_pok = []\n",
        "    test = False\n",
        "    count = 0\n",
        "    #Test esp\n",
        "    while(test==False):\n",
        "        esp=r.randint(0,len(test_esp)-1)\n",
        "        mano_esp.append(test_esp[esp])\n",
        "        test_esp.pop(esp)\n",
        "        if sum(mano_esp)==21:\n",
        "            count_esp[count] = count_esp[count] + 1\n",
        "            test = True\n",
        "        elif sum(mano_esp)>21:\n",
        "            test = True\n",
        "        else:\n",
        "            count = count + 1\n",
        "    count = 0\n",
        "    #Test pok   \n",
        "    while(test==True):\n",
        "        pok=r.randint(0,len(test_pok)-1)\n",
        "        mano_pok.append(test_pok[pok])\n",
        "        test_pok.pop(pok)\n",
        "        if sum(mano_pok) ==21:\n",
        "            count_pok[count] = count_pok[count]+ 1\n",
        "            test = False\n",
        "        elif sum(mano_pok) >21:\n",
        "            test = False\n",
        "        else:\n",
        "            count = count + 1\n",
        "#Despues de las pruebas\n",
        "m = [1,2,3,4,5,6,7,8,9,10,11,12]\n",
        "prob_esp = np.array(count_esp)\n",
        "plt.bar(m,(100*prob_esp/n))\n",
        "plt.ylabel('Probabilidad española(%)')\n",
        "plt.xlabel('Numero de cartas')\n",
        "plt.show()\n",
        "\n",
        "prob_pok = np.array(count_pok)\n",
        "plt.bar(m,(100*prob_pok/n))\n",
        "plt.ylabel('Probabilidad poker(%)')\n",
        "plt.xlabel('Numero de cartas')\n",
        "plt.show()\n",
        "\n",
        "\n"
      ],
      "execution_count": 37,
      "outputs": [
        {
          "output_type": "display_data",
          "data": {
            "image/png": "[encoded data removed]",
            "text/plain": [
              "<Figure size 432x288 with 1 Axes>"
            ]
          },
          "metadata": {
            "tags": [],
            "needs_background": "light"
          }
        },
        {
          "output_type": "display_data",
          "data": {
            "image/png": "[encoded data removed]",
            "text/plain": [
              "<Figure size 432x288 with 1 Axes>"
            ]
          },
          "metadata": {
            "tags": [],
            "needs_background": "light"
          }
        }
      ]
    },
    {
      "cell_type": "markdown",
      "metadata": {
        "id": "WZxH8IC07CkY"
      },
      "source": [
        "# Punto 2 ###\n",
        "###Explicación del codigo \n",
        "Estime la probabilidad de obtener un 21, el número total promedio de cartas necesarias para completar 21 (incluidas las tres con las que comienza) y trazar la distribución experimental de la cantidad de cartas necesarias para completar 21 con el dibujo de las cartas secuencialmente de un español 48 barajado. - baraja de cartas con 3 10's y una baraja de 52 cartas de Poker barajada con 4 10's, asumiendo que tienes en tu mano las cartas [7,7,5] ae y la baraja restante tiene  n / 2  cartas. Puede elegir las   cartas n / 2 en el mazo restante de la manera que elija, pero con la restricción de que este tiene un máximo de dos 7 y tres 5, debe mantener el mazo restante fijo a través de las simulaciones, use Montecarlo con 10 millones de simulaciones.\n"
      ]
    },
    {
      "cell_type": "code",
      "metadata": {
        "id": "uwYOvdEy4-8c",
        "outputId": "4601ef55-dcf8-4d5f-d345-bf7f62ed0feb",
        "colab": {
          "base_uri": "https://localhost:8080/",
          "height": 541
        }
      },
      "source": [
        "#2\n",
        "import random as r\n",
        "import matplotlib.pyplot as plt\n",
        "import numpy as np\n",
        "#Numero simulaciones\n",
        "n=10000\n",
        "\"\"\"Listas para las graficas de distribucion\"\"\"\n",
        "count_esp = [0,0,0,0,0,0,0,0,0,0,0,0]\n",
        "count_pok = [0,0,0,0,0,0,0,0,0,0,0,0]\n",
        "#Baraja española\n",
        "b_esp = [1,2,3,4,5,6,7,8,9,10,10,10,1,2,3,4,5,6,7,8,9,10,10,10,1,2,3,4,5,6,7,8,9,10,10,10,1,2,3,4,5,6,7,8,9,10,10,10] \n",
        "#Baraja poker\n",
        "b_pok = [1,2,3,4,5,6,7,8,9,10,10,10,10,1,2,3,4,5,6,7,8,9,10,10,10,10,1,2,3,4,5,6,7,8,9,10,10,10,10,1,2,3,4,5,6,7,8,9,10,10,10,10]\n",
        "\n",
        "for i in range(n):\n",
        "    test_esp = b_esp[:]\n",
        "    test_pok = b_pok[:]\n",
        "    mano_esp = []\n",
        "    mano_pok = []\n",
        "    test = False\n",
        "    count = 0\n",
        "    #Test esp\n",
        "    while(test==False):\n",
        "        esp=r.randint(0,len(test_esp)-1)\n",
        "        mano_esp.append(test_esp[esp])\n",
        "        test_esp.pop(esp)\n",
        "        if sum(mano_esp)==21:\n",
        "            count_esp[count] = count_esp[count] + 1\n",
        "            test = True\n",
        "        elif sum(mano_esp)>21:\n",
        "            test = True\n",
        "        else:\n",
        "            count = count + 1\n",
        "    count = 0\n",
        "    #Test pok   \n",
        "    while(test==True):\n",
        "        pok=r.randint(0,len(test_pok)-1)\n",
        "        mano_pok.append(test_pok[pok])\n",
        "        test_pok.pop(pok)\n",
        "        if sum(mano_pok) ==21:\n",
        "            count_pok[count] = count_pok[count]+ 1\n",
        "            test = False\n",
        "        elif sum(mano_pok) >21:\n",
        "            test = False\n",
        "        else:\n",
        "            count = count + 1\n",
        "#Despues de las pruebas\n",
        "m = [1,2,3,4,5,6,7,8,9,10,11,12]\n",
        "prob_esp = np.array(count_esp)\n",
        "plt.bar(m,(100*prob_esp/n))\n",
        "plt.ylabel('Probabilidad española(%)')\n",
        "plt.xlabel('Numero de cartas')\n",
        "plt.show()\n",
        "\n",
        "prob_pok = np.array(count_pok)\n",
        "plt.bar(m,(100*prob_pok/n))\n",
        "plt.ylabel('Probabilidad poker(%)')\n",
        "plt.xlabel('Numero de cartas')\n",
        "plt.show()"
      ],
      "execution_count": 38,
      "outputs": [
        {
          "output_type": "display_data",
          "data": {
            "image/png": "[encoded data removed]",
            "text/plain": [
              "<Figure size 432x288 with 1 Axes>"
            ]
          },
          "metadata": {
            "tags": [],
            "needs_background": "light"
          }
        },
        {
          "output_type": "display_data",
          "data": {
            "image/png": "[encoded data removed]",
            "text/plain": [
              "<Figure size 432x288 with 1 Axes>"
            ]
          },
          "metadata": {
            "tags": [],
            "needs_background": "light"
          }
        }
      ]
    },
    {
      "cell_type": "markdown",
      "metadata": {
        "id": "2H0MHqN_NJLa"
      },
      "source": [
        "# Punto 3 ###\n",
        "###Explicación del codigo \n",
        "Estime la probabilidad de obtener un 21, el número total promedio de cartas necesarias para completar 21 (incluidas las tres con las que comienza) y trazar la distribución experimental de la cantidad de cartas necesarias para completar 21 con el dibujo de las cartas secuencialmente de un español 48 barajado. - baraja de cartas con 3 10's y una baraja de 52 cartas de Poker barajada con 4 10's, asumiendo que tienes en tu mano las cartas [7,7,5] ae y la baraja restante tiene  n / 2  cartas. Puede elegir las   cartas n / 2 en el mazo restante de la manera que elija, pero con la restricción de que este tiene un máximo de dos 7 y tres 5, debe mantener el mazo restante fijo a través de las simulaciones, use Montecarlo con 10 millones de simulaciones.\n"
      ]
    },
    {
      "cell_type": "code",
      "metadata": {
        "id": "G14NjM6xM-Xf"
      },
      "source": [
        "#3\n",
        "#Importacion de las librerias de usar\n",
        "#\n",
        "import random\n",
        "#\n",
        "import matplotlib.pyplot as plt\n",
        "#\n",
        "import numpy as np"
      ],
      "execution_count": 39,
      "outputs": []
    },
    {
      "cell_type": "code",
      "metadata": {
        "id": "zOF8Xdk5y00O"
      },
      "source": [
        "#3\n",
        "#Funcion para retirar las cartas que se tienen en juego\n",
        "def Jugadas(Mano,Maso):\n",
        "  for i in Mano:\n",
        "    Maso.remove(i)\n",
        "  return Maso"
      ],
      "execution_count": 40,
      "outputs": []
    },
    {
      "cell_type": "code",
      "metadata": {
        "id": "QvPXW7JD9127"
      },
      "source": [
        "#3\n",
        "#Funcion que permite graficar los resultados de probabilidad\n",
        "def Graficar(Count,lista,n,sim):\n",
        "  #calcular la probabilidad de ganar\n",
        "  probabilida = (100*Count)/sim\n",
        "  \n",
        "  #Lista de las cartas\n",
        "  num_Cartas = [i+1 for i in range(0,len(lista))]\n",
        "  \n",
        "  #Probabilidad de ganar con cada una de las cartas\n",
        "  for i in range (0,len(lista)):\n",
        "    lista[i] = (100*lista[i])/sim\n",
        "  print (\"Probabilidad de ganar en esta ronda es de \", probabilida, \"%\")\n",
        "  \n",
        "  #Graficar las probabilidades con matplotlib.pyplot as plt\n",
        "  plt.figure(figsize=(15,7))\n",
        "  plt.bar(num_Cartas, lista)\n",
        "  plt.xticks(range(1,11,1))\n",
        "  plt.title('Probabilidad de Juego')\n",
        "  plt.ylabel('Probabilidad %')\n",
        "  plt.xlabel('Numeracion de las cartas')\n",
        "  plt.show()"
      ],
      "execution_count": 41,
      "outputs": []
    },
    {
      "cell_type": "code",
      "metadata": {
        "id": "_y_TkE053L4W"
      },
      "source": [
        "#3\n",
        "#Funcion que cuenta las cartas jugadas para completar 21 sin contar las cartas ya tenidas\n",
        "def Contar_Cartas(Mano,Mano1,lista):\n",
        "  #Se retiran las cartas de inicio\n",
        "  Mano = Jugadas(Mano1,Mano)\n",
        "  #Contar las cartas\n",
        "  for num in Mano:\n",
        "    lista[num-1] += 1\n",
        "  return lista\n",
        "  "
      ],
      "execution_count": 42,
      "outputs": []
    },
    {
      "cell_type": "code",
      "metadata": {
        "id": "iP8C_ESXxk0m"
      },
      "source": [
        "#3\n",
        "#Funcion que calcula con teorema de motecarlos la probabilidad de ganar\n",
        "def Probabilidad(Mano1,Maso_Español,n,simulacion):\n",
        "\n",
        "  #Crea una lista de las probabilidades de cada uno de los valores del maso\n",
        "  lista = [0 for i in range(0,10)]\n",
        "  #Contador de cartas\n",
        "  count = 0.0\n",
        "\n",
        "  #For de los 10 mil casos de prueba de desarrollo\n",
        "  for i in range(0,simulacion):\n",
        "    #copia de la mano\n",
        "    Mano = Mano1[:]\n",
        "    #Copia del maso de cartas restantes\n",
        "    Maso = Maso_Español[:]\n",
        "    #Revolver las cartas que se tienen para calcular la probabilidad\n",
        "    random.shuffle(Maso)\n",
        "    \n",
        "    #Leer el Maso de cartas para calcular el resultado\n",
        "    for x in Maso:\n",
        "   \n",
        "      #Se calcula si la Mano es 21\n",
        "      if (sum(Mano)==21):\n",
        "        #contador de dato aceptado\n",
        "        count += 1.0\n",
        "        #Llamada a luncion de contar cartas\n",
        "        Lista = Contar_Cartas(Mano,Mano1,lista) \n",
        "        break;\n",
        "        \n",
        "        #me pase\n",
        "      elif (sum(Mano)>21):\n",
        "        break;\n",
        "\n",
        "        #Se toma una carta\n",
        "      else:\n",
        "        Mano.append(Maso.pop())\n",
        "    \n",
        "  #Llamada a la funcion de graficas\n",
        "  Graficar(count,lista,n,simulacion)\n"
      ],
      "execution_count": 43,
      "outputs": []
    },
    {
      "cell_type": "markdown",
      "metadata": {
        "id": "jQh6myeo6DuP"
      },
      "source": [
        "###Juego de 21 con la baraja Española"
      ]
    },
    {
      "cell_type": "code",
      "metadata": {
        "id": "cpijIYiqNIaD",
        "outputId": "c0563275-c0d0-43ab-a95f-bbcdd0941c84",
        "colab": {
          "base_uri": "https://localhost:8080/",
          "height": 512
        }
      },
      "source": [
        "#3\n",
        "#Baraja Española\n",
        "Maso_Español = [1,2,3,4,5,6,7,8,9,10,10,10]\n",
        "Maso_Español = Maso_Español+Maso_Español\n",
        "Maso_Español = Maso_Español+Maso_Español\n",
        "#Numero de cartas en juego\n",
        "NumCartas = 48\n",
        "\n",
        "#Revolver las cartas\n",
        "random.shuffle(Maso_Español)\n",
        "#Mis cartas recividas (mano)\n",
        "Mano1 = [7,7,5]\n",
        "#Baraja de cartas usadas\n",
        "Descartadas = Mano1[:]\n",
        "#Llamar la funcion de cartas jugadas\n",
        "Maso_Español = Jugadas(Mano1,Maso_Español)\n",
        "\n",
        "#Numero de en juego\n",
        "NumMano = len(Mano1)\n",
        "#Juego con la mitad de las cartas\n",
        "#Las primeras 24 cartas jugadas\n",
        "Descartadas = Descartadas + Maso_Español[:int(NumCartas/2)-NumMano]\n",
        "#Dejas las demas cartas\n",
        "Maso_Español = Maso_Español[int(NumCartas/2)-3:]\n",
        "\n",
        "#\n",
        "print (Maso_Español)\n",
        "print (len(Maso_Español))\n",
        "\n",
        "#Llamada de la funcion de calcular la probabilidad de ganar\n",
        "#Datos se envia (la mano, el maso, el numero, el # de simulaciones)\n",
        "Probabilidad(Mano1,Maso_Español,NumCartas,10000)"
      ],
      "execution_count": 44,
      "outputs": [
        {
          "output_type": "stream",
          "text": [
            "[8, 10, 10, 3, 4, 10, 2, 10, 6, 8, 2, 10, 4, 8, 5, 5, 3, 8, 10, 10, 1, 5, 1, 6]\n",
            "24\n",
            "Probabilidad de ganar en esta ronda es de  8.64 %\n"
          ],
          "name": "stdout"
        },
        {
          "output_type": "display_data",
          "data": {
            "image/png": "[encoded data removed]",
            "text/plain": [
              "<Figure size 1080x504 with 1 Axes>"
            ]
          },
          "metadata": {
            "tags": [],
            "needs_background": "light"
          }
        }
      ]
    },
    {
      "cell_type": "markdown",
      "metadata": {
        "id": "j7zdl1EQLCz3"
      },
      "source": [
        "###Juego de 21 con la baraja de Poker\n",
        "Poker el (juego) amigo que une (separa) a los amigos"
      ]
    },
    {
      "cell_type": "code",
      "metadata": {
        "id": "nsrXmhIgOHCJ",
        "outputId": "dae5377b-3cc3-41db-d216-b9851aa9b1fc",
        "colab": {
          "base_uri": "https://localhost:8080/",
          "height": 512
        }
      },
      "source": [
        "#3\n",
        "#Baraja de Poker\n",
        "Maso_Poker = [1,2,3,4,5,6,7,8,9,10,10,10,10]\n",
        "Maso_Poker = Maso_Poker + Maso_Poker\n",
        "Maso_Poker = Maso_Poker + Maso_Poker\n",
        "\n",
        "#Numero de cartas en juego\n",
        "Num2Cartas = len(Maso_Poker)\n",
        "\n",
        "#Revolver las cartas\n",
        "random.shuffle(Maso_Poker)\n",
        "#Mis cartas recividas (mano)\n",
        "Mano2 = [5,7,7]\n",
        "#Baraja de cartas usadas\n",
        "Usadas = Mano2[:]\n",
        "#Llamar la funcion de cartas jugadas\n",
        "Maso_Poker = Jugadas(Mano2,Maso_Poker)\n",
        "\n",
        "#Juego con la mitad de las cartas\n",
        "#Las primeras 24 cartas jugadas\n",
        "Usadas = Usadas + Maso_Poker[:int(Num2Cartas/2)-3]\n",
        "#Dejas las demas cartas\n",
        "Maso_Poker = Maso_Poker[int(Num2Cartas/2)-3:]\n",
        "\n",
        "#Revicion de los resultados de juego\n",
        "print (Maso_Poker)\n",
        "print (len(Maso_Poker))\n",
        "\n",
        "#Llamada de la funcion de calcular la probabilidad de ganar\n",
        "#Datos se envia (la mano, el maso, el numero de cartas, el # de simulaciones)\n",
        "Probabilidad(Mano2,Maso_Poker,Num2Cartas,1000000)"
      ],
      "execution_count": 45,
      "outputs": [
        {
          "output_type": "stream",
          "text": [
            "[2, 10, 1, 7, 10, 4, 10, 10, 2, 2, 8, 10, 10, 9, 10, 5, 6, 6, 1, 7, 4, 8, 3, 6, 8, 9]\n",
            "26\n",
            "Probabilidad de ganar en esta ronda es de  11.8513 %\n"
          ],
          "name": "stdout"
        },
        {
          "output_type": "display_data",
          "data": {
            "image/png": "[encoded data removed]",
            "text/plain": [
              "<Figure size 1080x504 with 1 Axes>"
            ]
          },
          "metadata": {
            "tags": [],
            "needs_background": "light"
          }
        }
      ]
    },
    {
      "cell_type": "markdown",
      "metadata": {
        "id": "EP3uIJry7dM1"
      },
      "source": [
        "# Punto 4 ###\n",
        "###Explicación del codigo \n",
        "Estime la probabilidad de obtener un 21, el número total promedio de cartas necesarias para completar 21 (incluidas las tres con las que comienza) y trazar la distribución experimental de la cantidad de cartas necesarias para completar 21 con el dibujo de las cartas secuencialmente de un español 48 barajado. - baraja de cartas con 3 10's y una baraja de 52 cartas de Poker barajada con 4 10's, asumiendo que tienes en tu mano las cartas [7,7,5] ae y la baraja restante tiene  n / 2  cartas. Puede elegir las   cartas n / 2 en el mazo restante de la manera que elija, pero con la restricción de que este tiene un máximo de dos 7 y tres 5, debe mantener el mazo restante fijo a través de las simulaciones, use Montecarlo con 10 millones de simulaciones.\n"
      ]
    },
    {
      "cell_type": "code",
      "metadata": {
        "id": "T4Xx7NZ64-8i",
        "outputId": "6ce43be1-d4e7-4d6e-87ae-6dd189d06014",
        "colab": {
          "base_uri": "https://localhost:8080/",
          "height": 1000
        }
      },
      "source": [
        "#4  (aporx 21 seg)\n",
        "import random as r\n",
        "import matplotlib.pyplot as plt\n",
        "import numpy as np\n",
        "#Numero simulaciones\n",
        "n = 1000000\n",
        "\"\"\"Listas para las graficas de distribucion\"\"\"\n",
        "count_esp_hot = [0,0,0,0,0,0,0,0,0]\n",
        "count_esp_cold = [0,0,0,0,0,0,0,0,0]\n",
        "count_pok_hot = [0,0,0,0,0,0,0,0,0]\n",
        "count_pok_cold = [0,0,0,0,0,0,0,0,0]\n",
        "#Barajas española\n",
        "b_esp_hot = [1,1,1,1,2,2,2,2,3,3,3,3]\n",
        "b_esp_cold = [10,10,10,10,10,10,10,10,10,10,10,10]\n",
        "#Barajas poker\n",
        "b_pok_hot = [1,1,1,1,2,2,2,2,3,3,3,3]\n",
        "b_pok_cold = [10,10,10,10,10,10,10,10,10,10,10,10]\n",
        "\n",
        "\"\"\"\"Funcion calculo exito 21 \"\"\"\n",
        "#bool t, list maso, list mano, int num_cart\n",
        "def ventiuna(maso,mano,num_cart):\n",
        "    win = False\n",
        "    #Los breaks detienen el ciclo\n",
        "    while(True):\n",
        "        #Escoge una carta al azar del maso y la pone en la mano\n",
        "        esp=r.randint(0,len(maso)-1)\n",
        "        mano.append(maso[esp])\n",
        "        maso.pop(esp)\n",
        "        if sum(mano)==21:\n",
        "            win = True\n",
        "            break;\n",
        "        elif sum(mano)>21:\n",
        "            break;\n",
        "        else:\n",
        "            num_cart = num_cart + 1\n",
        "    \n",
        "    return [win,num_cart]\n",
        "\n",
        "\n",
        "for i in range(n):\n",
        "    #Masos y manos para pruebas\n",
        "    test_esp_hot = b_esp_hot[:]\n",
        "    test_esp_cold = b_esp_cold[:]\n",
        "    test_pok_hot = b_pok_hot[:]\n",
        "    test_pok_cold = b_pok_cold[:]\n",
        "    mano_esp_hot =  [7,7,5]\n",
        "    mano_esp_cold =  [7,7,5]\n",
        "    mano_pok_hot =  [7,7,5]\n",
        "    mano_pok_cold =  [7,7,5]\n",
        "    \n",
        "    #Test esp_hot\n",
        "    esp_hot = ventiuna(test_esp_hot,mano_esp_hot,0)\n",
        "    if(esp_hot[0]):\n",
        "        count_esp_hot[esp_hot[1]] = count_esp_hot[esp_hot[1]] +1\n",
        "   \n",
        "    #Es imposible sacar 21 con el maso frio\n",
        "    \n",
        "    #Test pok_hot\n",
        "    pok_hot = ventiuna(test_pok_hot,mano_pok_hot,0)\n",
        "    if(pok_hot[0]):\n",
        "        count_pok_hot[pok_hot[1]] = count_pok_hot[pok_hot[1]] +1\n",
        "    \n",
        "    #Es imposible sacar 21 con el maso frio\n",
        "    \n",
        "#Despues de las pruebas\n",
        "\n",
        "#El numero de cartas en mano\n",
        "m = [4,5,6,7,8,9,10,11,12]\n",
        "\n",
        "#Graficas por maso\n",
        "\n",
        "prob_esp_hot = np.array(count_esp_hot)\n",
        "plt.bar(m,(100*prob_esp_hot/n))\n",
        "plt.ylabel('Probabilidad española hot(%)')\n",
        "plt.xlabel('Numero de cartas')\n",
        "plt.show()\n",
        "print (\"Probabilidad española hot total:\")\n",
        "#Probabilidades escaladas\n",
        "Escalado = sum(prob_esp_hot)*100/n\n",
        "print (Escalado)\n",
        "print (\"Probabilidades escaladas:\")\n",
        "c4 = (prob_esp_hot[0]*100/(n*Escalado))\n",
        "c5 = (prob_esp_hot[1]*100/(n*Escalado))\n",
        "print (\"Con 4 cartas: \",c4*100)\n",
        "print (\"Con 5 cartas: \",c5*100)\n",
        "print (\"Cartas promedio para 21: \",(4*c4+5*c5))\n",
        "\n",
        "\n",
        "prob_esp_cold = np.array(count_esp_cold)\n",
        "plt.bar(m,(100*prob_esp_cold/n))\n",
        "plt.ylabel('Probabilidad española cold(%)')\n",
        "plt.xlabel('Numero de cartas')\n",
        "plt.show()\n",
        "#No se puede escalar 0%\n",
        "\n",
        "prob_pok_hot = np.array(count_pok_hot)\n",
        "plt.bar(m,(100*prob_pok_hot/n))\n",
        "plt.ylabel('Probabilidad poker hot(%)')\n",
        "plt.xlabel('Numero de cartas')\n",
        "plt.show()\n",
        "#Probabilidades escaladas\n",
        "Escalado = sum(prob_pok_hot)*100/n\n",
        "print (Escalado)\n",
        "print (\"Probabilidades escaladas:\")\n",
        "c4 = (prob_pok_hot[0]*100/(n*Escalado))\n",
        "c5 = (prob_pok_hot[1]*100/(n*Escalado))\n",
        "print (\"Con 4 cartas: \",c4*100)\n",
        "print (\"Con 5 cartas: \",c5*100)\n",
        "print (\"Cartas promedio para 21: \",(4*c4+5*c5))\n",
        "\n",
        "prob_pok_cold = np.array(count_pok_cold)\n",
        "plt.bar(m,(100*prob_pok_cold/n))\n",
        "plt.ylabel('Probabilidad poker cold(%)')\n",
        "plt.xlabel('Numero de cartas')\n",
        "plt.show()\n",
        "#No se puede escalar 0%"
      ],
      "execution_count": 46,
      "outputs": [
        {
          "output_type": "display_data",
          "data": {
            "image/png": "[encoded data removed]",
            "text/plain": [
              "<Figure size 432x288 with 1 Axes>"
            ]
          },
          "metadata": {
            "tags": [],
            "needs_background": "light"
          }
        },
        {
          "output_type": "stream",
          "text": [
            "Probabilidad española hot total:\n",
            "42.3743\n",
            "Probabilidades escaladas:\n",
            "Con 4 cartas:  78.53321470797158\n",
            "Con 5 cartas:  21.466785292028423\n",
            "Cartas promedio para 21:  4.214667852920284\n"
          ],
          "name": "stdout"
        },
        {
          "output_type": "display_data",
          "data": {
            "image/png": "[encoded data removed]",
            "text/plain": [
              "<Figure size 432x288 with 1 Axes>"
            ]
          },
          "metadata": {
            "tags": [],
            "needs_background": "light"
          }
        },
        {
          "output_type": "display_data",
          "data": {
            "image/png": "[encoded data removed]",
            "text/plain": [
              "<Figure size 432x288 with 1 Axes>"
            ]
          },
          "metadata": {
            "tags": [],
            "needs_background": "light"
          }
        },
        {
          "output_type": "stream",
          "text": [
            "42.4616\n",
            "Probabilidades escaladas:\n",
            "Con 4 cartas:  78.56180643216459\n",
            "Con 5 cartas:  21.43819356783541\n",
            "Cartas promedio para 21:  4.214381935678354\n"
          ],
          "name": "stdout"
        },
        {
          "output_type": "display_data",
          "data": {
            "image/png": "[encoded data removed]",
            "text/plain": [
              "<Figure size 432x288 with 1 Axes>"
            ]
          },
          "metadata": {
            "tags": [],
            "needs_background": "light"
          }
        }
      ]
    },
    {
      "cell_type": "markdown",
      "metadata": {
        "id": "WLExGJ9WE__-"
      },
      "source": [
        "#Punto 5\n",
        "###Explicación del código\n",
        "Estime la cantidad promedio de dinero (valor esperado) que Ben gana o pierde en un fin de semana si Ben va a Las Vegas todos los fines de semana (viernes, sábado y domingo), juega todos los fines de semana 10 horas, cada juego dura 3 minutos. Suponga que para cada juego obtiene dos posibilidades, en una tiene en su mano las cartas [7,7,5] y un resto de cartas calientes con 12 en cuyo caso apuesta $\\$$ 1000, esto sucede con una probabilidad de 1/10; en el otro no tiene cartas en la mano una baraja completa barajada en cuyo caso apuesta $\\$$ 10, esto sucede con la probabilidad restante 9/10. Utilice 10000 simulaciones de Montecarlo para estimar la cantidad de dinero esperada que Ben gana o pierde en un fin de semana para una baraja española de 48 cartas con 3 decenas y para una baraja de póquer de 52 cartas con 4 decenas."
      ]
    },
    {
      "cell_type": "code",
      "metadata": {
        "id": "6OOR5JXIEzhY"
      },
      "source": [
        "#5\n",
        "#importacion de las librerias de usar\n",
        "#\n",
        "import random\n",
        "#\n",
        "import matplotlib.pyplot as plt\n",
        "#\n",
        "import numpy as np"
      ],
      "execution_count": 47,
      "outputs": []
    },
    {
      "cell_type": "code",
      "metadata": {
        "id": "MOB9Ltr5cCkP"
      },
      "source": [
        "#5\n",
        "#funcion para calcular la ganancia tras un juego\n",
        "def apostar(Maso1,Mano1,dinero):\n",
        "  #copiar los vectores\n",
        "  Maso = Maso1[:]\n",
        "  Mano = Mano1[:]\n",
        "\n",
        "  #Revolver las cartas\n",
        "  random.shuffle(Maso)\n",
        "\n",
        "  for x in Maso:\n",
        "    \n",
        "    #Se calcula si la Mano es 21 gano dinero\n",
        "    if (sum(Mano)==21):\n",
        "\n",
        "      #Devolver el resultado favorable\n",
        "      return (dinero)\n",
        "      \n",
        "      #me pase pierdo dinero\n",
        "    elif (sum(Mano)>21):\n",
        "      return (dinero*(-1))\n",
        "\n",
        "      #Se toma una carta\n",
        "    else:\n",
        "      Mano.append(Maso.pop())"
      ],
      "execution_count": 48,
      "outputs": []
    },
    {
      "cell_type": "code",
      "metadata": {
        "id": "bar_I_uTWGZk"
      },
      "source": [
        "#5\n",
        "#Funcion que genera la matriz con 600 digitos\n",
        "def Completar(al):\n",
        "  matriz = al[:]\n",
        "  for s in range(0,60-1):\n",
        "    al = al + matriz\n",
        "  return al"
      ],
      "execution_count": 49,
      "outputs": []
    },
    {
      "cell_type": "code",
      "metadata": {
        "id": "PmZHhq0Uq5Bf"
      },
      "source": [
        "#5\n",
        "#Funcion para definir la simulacion de juego\n",
        "def Inicio_Juego(Mano, Maso, sim):\n",
        "  \n",
        "  #Numero de juegos cada fin de semana\n",
        "  Tiempo = int(10 * 60 / 3)\n",
        "  print (\"\\tNumero de juegos \", Tiempo,\"\\n\")\n",
        "\n",
        "  #Duracion de la adiccion es de 10 millones de juegos\n",
        "  i = 0\n",
        "\n",
        "  #Juegos cada semana\n",
        "  j = 0\n",
        "\n",
        "  #Almacenar el dinero por semana\n",
        "  ganado = 0\n",
        "  \n",
        "  #Almacenar los resultados por semana\n",
        "  resultado = []\n",
        "\n",
        "  #Acumulado de ganancia\n",
        "  acumulado = 0\n",
        "\n",
        "  #Vector aleatorio con probabilidad de 1/10 para tener maso caliente\n",
        "  al = [1,0,0,0,0,0,0,0,0,0]\n",
        "  \n",
        "  #Se genera una matris con los 600 datos \n",
        "  al = Completar(al)\n",
        "\n",
        "  #Inicio se repetira 10 mil semanas\n",
        "  while (i <= sim):\n",
        "\n",
        "    #Sistema de revolver las probabilidades\n",
        "    random.shuffle(al)\n",
        "    \n",
        "    #Condicional que separa las semanas\n",
        "    if (j >= Tiempo):\n",
        "      j = 0\n",
        "      i +=1\n",
        "      #print (\"Ganancia de Ben en la semana \", int(i/Tiempo),\" es de $\", ganado)\n",
        "      acumulado = acumulado + ganado\n",
        "      \n",
        "      #Almacenar el dinero que se gana en la semana\n",
        "      resultado.append(ganado)\n",
        "\n",
        "      ganado = 0\n",
        "\n",
        "    #Juego de 21\n",
        "    else:\n",
        "\n",
        "      #Leer las probabilidades aleatoria con mejor probabilidad\n",
        "      for l in al:\n",
        "        #Jugada realizada\n",
        "        j = j+1\n",
        "\n",
        "        premio = 0\n",
        "\n",
        "        #Si la probabilidad es favorable se apuesta 1000\n",
        "        if (l):\n",
        "        \n",
        "          #Llamada de la funcion apostar\n",
        "          premio = apostar(Maso[0],Mano,1000)\n",
        "          \n",
        "          #Si la probabilidad es desfavorable se apuesta 10\n",
        "        else:\n",
        "          #Llamada de la funcion apostar\n",
        "          premio = apostar(Maso[1],[],10)\n",
        "        \n",
        "        #Sumar los resultados\n",
        "        ganado = ganado + premio\n",
        "\n",
        "  print (\"\\nLa ganancia de Ben es de $\", acumulado,\"\\n\")\n",
        "\n"
      ],
      "execution_count": 50,
      "outputs": []
    },
    {
      "cell_type": "markdown",
      "metadata": {
        "id": "gVUUsnSGULoe"
      },
      "source": [
        "###Baraja Española"
      ]
    },
    {
      "cell_type": "code",
      "metadata": {
        "id": "jKDgn1J_Gv_V",
        "outputId": "0fcb4328-e705-4539-e4dc-fdb89c10e167",
        "colab": {
          "base_uri": "https://localhost:8080/",
          "height": 179
        }
      },
      "source": [
        "#5\n",
        "#Baraja Española\n",
        "Maso_Español = [1,2,3,4,5,6,7,8,9,10,10,10]\n",
        "Maso_Español = Maso_Español+Maso_Español\n",
        "Maso_Español = Maso_Español+Maso_Español\n",
        "Maso_Español_C = [[1,1,1,1,2,2,2,2,3,10,10,10],Maso_Español]\n",
        "\n",
        "#Tiempo de juego en cada semana 3 dias a la semana, 10 horas de juego \n",
        "#y cada partida con duracion de 3 minutos\n",
        "\n",
        "print (\"\\n\\tInicio de la partida.\\n\\n\")\n",
        "\n",
        "#Mis cartas recividas (mano)\n",
        "Mano1 = [5,7,7]\n",
        "\n",
        "#Calcular con el maso\n",
        "Inicio_Juego(Mano1, Maso_Español_C, 10000)\n",
        "  "
      ],
      "execution_count": 51,
      "outputs": [
        {
          "output_type": "stream",
          "text": [
            "\n",
            "\tInicio de la partida.\n",
            "\n",
            "\n",
            "\tNumero de juegos  200 \n",
            "\n",
            "\n",
            "La ganancia de Ben es de $ -128856380 \n",
            "\n"
          ],
          "name": "stdout"
        }
      ]
    },
    {
      "cell_type": "markdown",
      "metadata": {
        "id": "2dNvdEegDRvJ"
      },
      "source": [
        "###Baraja de Poker"
      ]
    },
    {
      "cell_type": "code",
      "metadata": {
        "id": "S9LBqpIJDNyN",
        "outputId": "5828fe3c-c4de-4a73-b131-f94b8a2363b1",
        "colab": {
          "base_uri": "https://localhost:8080/",
          "height": 179
        }
      },
      "source": [
        "#5\n",
        "#Baraja Poker\n",
        "Maso_Poker = [1,2,3,4,5,6,7,8,9,10,10,10,10]\n",
        "Maso_Poker = Maso_Poker+Maso_Poker\n",
        "Maso_Poker = Maso_Poker+Maso_Poker\n",
        "Maso_Poker_C = [[1,1,1,1,2,2,2,2,10,10,10,10],Maso_Poker]\n",
        "\n",
        "#Tiempo de juego en cada semana 3 dias a la semana, 10 horas de juego \n",
        "#y cada partida con duracion de 3 minutos\n",
        "\n",
        "print (\"\\n\\tInicio de la partida.\\n\\n\")\n",
        "\n",
        "#Mis cartas recividas (mano)\n",
        "Mano1 = [5,7,7]\n",
        "\n",
        "#Calcular con el maso\n",
        "Inicio_Juego(Mano1, Maso_Poker_C, 10000)"
      ],
      "execution_count": 52,
      "outputs": [
        {
          "output_type": "stream",
          "text": [
            "\n",
            "\tInicio de la partida.\n",
            "\n",
            "\n",
            "\tNumero de juegos  200 \n",
            "\n",
            "\n",
            "La ganancia de Ben es de $ -130063100 \n",
            "\n"
          ],
          "name": "stdout"
        }
      ]
    }
  ]
}